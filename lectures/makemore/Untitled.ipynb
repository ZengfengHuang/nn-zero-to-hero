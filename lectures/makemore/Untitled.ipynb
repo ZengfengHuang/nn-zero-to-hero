{
 "cells": [
  {
   "cell_type": "code",
   "execution_count": 51,
   "id": "baa7ff39-1633-4932-9e65-5e72bcca1fe8",
   "metadata": {},
   "outputs": [
    {
     "name": "stdout",
     "output_type": "stream",
     "text": [
      "tensor([20.])\n",
      "tensor([8.])\n",
      "tensor([40.])\n"
     ]
    }
   ],
   "source": [
    "import torch\n",
    "a = torch.tensor([1.], requires_grad=True)\n",
    "b = torch.tensor([1.], requires_grad=True)\n",
    "\n",
    "#y = torch.zeros((10))\n",
    "gt = torch.zeros((2))\n",
    "\n",
    "y = 2 * a\n",
    "z = 2 * y\n",
    "#y.retain_grad()\n",
    "\n",
    "#z = y * 2\n",
    "\n",
    "\n",
    "out = torch.tensor([])\n",
    "\n",
    "loss = y**2 + z**2\n",
    "#loss = torch.sum((out-gt) ** 2)\n",
    "\n",
    "y.retain_grad()\n",
    "z.retain_grad()\n",
    "\n",
    "loss.backward()\n",
    "print(y.grad)\n",
    "print(z.grad)\n",
    "print(a.grad)\n"
   ]
  },
  {
   "cell_type": "code",
   "execution_count": 54,
   "id": "7b57c1df-d7b7-452a-a9ec-765bf51103e5",
   "metadata": {},
   "outputs": [
    {
     "name": "stdout",
     "output_type": "stream",
     "text": [
      "tensor([4., 8., 0., 0., 0., 0., 0., 0., 0., 0.])\n",
      "tensor([40.])\n"
     ]
    }
   ],
   "source": [
    "import torch\n",
    "a = torch.tensor([1.], requires_grad=True)\n",
    "y = torch.zeros((10))\n",
    "\n",
    "#print(y[0])\n",
    "y[0] = 2 * a\n",
    "#print(id(y[0]))\n",
    "#print(id(a))\n",
    "#y.retain_grad()\n",
    "\n",
    "y[1] = y[0] * 2\n",
    "\n",
    "loss = torch.sum(y ** 2)\n",
    "y.retain_grad()\n",
    "\n",
    "loss.backward()\n",
    "print(y.grad)\n",
    "print(a.grad)"
   ]
  }
 ],
 "metadata": {
  "kernelspec": {
   "display_name": "Python 3 (ipykernel)",
   "language": "python",
   "name": "python3"
  },
  "language_info": {
   "codemirror_mode": {
    "name": "ipython",
    "version": 3
   },
   "file_extension": ".py",
   "mimetype": "text/x-python",
   "name": "python",
   "nbconvert_exporter": "python",
   "pygments_lexer": "ipython3",
<<<<<<< Updated upstream
   "version": "3.13.7"
=======
   "version": "3.12.7"
>>>>>>> Stashed changes
  }
 },
 "nbformat": 4,
 "nbformat_minor": 5
}
