{
 "cells": [
  {
   "cell_type": "code",
   "execution_count": 1,
   "id": "8a4c65a3-4c93-437c-8221-21fa4a99f183",
   "metadata": {},
   "outputs": [],
   "source": [
    "def square_values(input_dict):\n",
    "    # 创建一个新的字典来存储结果\n",
    "    result = {}\n",
    "\n",
    "    # 遍历输入字典，计算每个值的平方，并更新到结果字典中\n",
    "    for key, value in input_dict.items():\n",
    "        result[key] = value ** 2\n",
    "\n",
    "    # 返回结果字典\n",
    "    return result"
   ]
  },
  {
   "cell_type": "code",
   "execution_count": 2,
   "id": "aa275c88-737a-43cd-8de9-df54590c0301",
   "metadata": {},
   "outputs": [
    {
     "name": "stdout",
     "output_type": "stream",
     "text": [
      "[1, 2, 3, 4]\n"
     ]
    }
   ],
   "source": [
    "def modify_list(input_list):\n",
    "    input_list.append(4)\n",
    "    input_list = [1, 2, 3]\n",
    "\n",
    "original_list = [1, 2, 3]\n",
    "modify_list(original_list)\n",
    "print(original_list)"
   ]
  },
  {
   "cell_type": "code",
   "execution_count": 3,
   "id": "d22aff4f-2992-4bd8-b96b-064cfe4ab677",
   "metadata": {},
   "outputs": [
    {
     "name": "stdout",
     "output_type": "stream",
     "text": [
      "Original List: [[1, 2, 100], [3, 4]]\n",
      "Copied List: [[1, 2, 100], [3, 4]]\n"
     ]
    }
   ],
   "source": [
    "import copy\n",
    "\n",
    "def modify_list(input_list):\n",
    "    input_list[0].append(100)\n",
    "\n",
    "original_list = [[1, 2], [3, 4]]\n",
    "copied_list = copy.copy(original_list)\n",
    "modify_list(copied_list)\n",
    "print(\"Original List:\", original_list)\n",
    "print(\"Copied List:\", copied_list)"
   ]
  },
  {
   "cell_type": "code",
   "execution_count": null,
   "id": "fa0e84ce-4cc1-434a-825d-27f56e00b75a",
   "metadata": {},
   "outputs": [],
   "source": []
  },
  {
   "cell_type": "code",
   "execution_count": null,
   "id": "61fd1d68-49b8-4f76-a7d2-1aab16e99db3",
   "metadata": {},
   "outputs": [],
   "source": []
  }
 ],
 "metadata": {
  "kernelspec": {
   "display_name": "Python 3 (ipykernel)",
   "language": "python",
   "name": "python3"
  },
  "language_info": {
   "codemirror_mode": {
    "name": "ipython",
    "version": 3
   },
   "file_extension": ".py",
   "mimetype": "text/x-python",
   "name": "python",
   "nbconvert_exporter": "python",
   "pygments_lexer": "ipython3",
   "version": "3.9.6"
  }
 },
 "nbformat": 4,
 "nbformat_minor": 5
}
