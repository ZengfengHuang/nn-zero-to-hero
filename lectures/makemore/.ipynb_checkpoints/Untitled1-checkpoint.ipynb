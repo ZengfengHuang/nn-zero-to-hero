{
 "cells": [
  {
   "cell_type": "code",
   "execution_count": 1,
   "id": "8a4c65a3-4c93-437c-8221-21fa4a99f183",
   "metadata": {},
   "outputs": [],
   "source": [
    "def square_values(input_dict):\n",
    "    # 创建一个新的字典来存储结果\n",
    "    result = {}\n",
    "\n",
    "    # 遍历输入字典，计算每个值的平方，并更新到结果字典中\n",
    "    for key, value in input_dict.items():\n",
    "        result[key] = value ** 2\n",
    "\n",
    "    # 返回结果字典\n",
    "    return result"
   ]
  },
  {
   "cell_type": "code",
   "execution_count": 2,
   "id": "aa275c88-737a-43cd-8de9-df54590c0301",
   "metadata": {},
   "outputs": [
    {
     "name": "stdout",
     "output_type": "stream",
     "text": [
      "[1, 2, 3, 4]\n"
     ]
    }
   ],
   "source": [
    "def modify_list(input_list):\n",
    "    input_list.append(4)\n",
    "    input_list = [1, 2, 3]\n",
    "\n",
    "original_list = [1, 2, 3]\n",
    "modify_list(original_list)\n",
    "print(original_list)"
   ]
  },
  {
   "cell_type": "code",
   "execution_count": 3,
   "id": "d22aff4f-2992-4bd8-b96b-064cfe4ab677",
   "metadata": {},
   "outputs": [
    {
     "name": "stdout",
     "output_type": "stream",
     "text": [
      "Original List: [[1, 2, 100], [3, 4]]\n",
      "Copied List: [[1, 2, 100], [3, 4]]\n"
     ]
    }
   ],
   "source": [
    "import copy\n",
    "\n",
    "def modify_list(input_list):\n",
    "    input_list[0].append(100)\n",
    "\n",
    "original_list = [[1, 2], [3, 4]]\n",
    "copied_list = copy.copy(original_list)\n",
    "modify_list(copied_list)\n",
    "print(\"Original List:\", original_list)\n",
    "print(\"Copied List:\", copied_list)"
   ]
  },
  {
   "cell_type": "code",
   "execution_count": 83,
   "id": "fa0e84ce-4cc1-434a-825d-27f56e00b75a",
   "metadata": {},
   "outputs": [
    {
     "name": "stdout",
     "output_type": "stream",
     "text": [
      "3 3 0 3 0 -1\n"
     ]
    },
    {
     "data": {
      "text/plain": [
       "2.5"
      ]
     },
     "execution_count": 83,
     "metadata": {},
     "output_type": "execute_result"
    }
   ],
   "source": [
    "    def findMedianSortedArrays(nums1, nums2):\n",
    "        if len(nums2) < len(nums1):\n",
    "            nums1, nums2 = nums2, nums1\n",
    "        m = len(nums1)\n",
    "        n = len(nums2) \n",
    "        odd = (m+n) % 2\n",
    "        target = (m+n) // 2 + 1 #if odd, target is median rank (start from 1), else target-1 and target\n",
    "        # we need to find a number q such that there are 'target' number of elements <= q\n",
    "        l = 0\n",
    "        h = m-1\n",
    "        while True:\n",
    "            mid = (l+h) // 2\n",
    "            md = nums1[mid] # there are mid+1 numbers in nums1 that are <=md\n",
    "            remain = target - mid - 1 # check whether remain number of numbers in nums2 <=md\n",
    "\n",
    "            if remain == 0 and nums2[0] > md:\n",
    "                #print(remain)\n",
    "                if odd:\n",
    "                    return md\n",
    "                if mid+1 <= m:\n",
    "                    return (md + min(nums1[mid+1], nums2[0]))/2.0\n",
    "                else:\n",
    "                    return (md + nums2[0])/2.0\n",
    "            if remain == 0 and nums2[0] <= md:\n",
    "                h = (l+h) // 2 - 1\n",
    "                continue\n",
    "\n",
    "            if remain == n:\n",
    "                q = float(\"+inf\")\n",
    "            else: \n",
    "                q = nums2[remain]\n",
    "            if q > md and  nums2[remain-1] <= md:\n",
    "                #print(f\"q:{q}\")\n",
    "                if odd:\n",
    "                    return md\n",
    "                return (md + max(nums1[mid-1], nums2[remain-1]))/2.0\n",
    "\n",
    "            elif q <= md:\n",
    "                h = (l+h) // 2 - 1\n",
    "\n",
    "                if h < l:\n",
    "                    remain = target-l\n",
    "                    print(remain, q, mid, target, l,h)\n",
    "                    if odd:\n",
    "                        return nums2[remain-1]\n",
    "                    if l == 0:\n",
    "                        p = float(\"-inf\")\n",
    "                    else:\n",
    "                        p = nums1[l-1]\n",
    "                    return (nums2[remain-1] + max(nums2[remain-2], p))/2.0\n",
    "                    # nums1[l-1] < q < nums[l]\n",
    "\n",
    "            elif nums2[remain-1] > md:\n",
    "                l = (l+h) // 2 + 1\n",
    "                \n",
    "                if h < l:\n",
    "                    remain = target - h - 1\n",
    "                    #print(remain,target, h, nums2[remain-2])\n",
    "\n",
    "                    if odd:\n",
    "                        return nums2[remain-1]\n",
    "                    if remain == 1:\n",
    "                        return (nums2[remain-1] + nums1[h])/2.0\n",
    "                    return (nums2[remain-1] + max(nums2[remain-2], nums1[h]))/2.0\n",
    "                    # nums1[h] < q < nums1[h+1]\n",
    "        \n",
    "    \n",
    "    \n",
    "nums1 = [4]\n",
    "nums2 = [1,2,3]\n",
    "\n",
    "findMedianSortedArrays(nums1, nums2)"
   ]
  },
  {
   "cell_type": "code",
   "execution_count": 66,
   "id": "61fd1d68-49b8-4f76-a7d2-1aab16e99db3",
   "metadata": {},
   "outputs": [
    {
     "data": {
      "text/plain": [
       "-1"
      ]
     },
     "execution_count": 66,
     "metadata": {},
     "output_type": "execute_result"
    }
   ],
   "source": [
    "-1//2"
   ]
  },
  {
   "cell_type": "code",
   "execution_count": 67,
   "id": "10e7cb92",
   "metadata": {},
   "outputs": [
    {
     "data": {
      "text/plain": [
       "-2"
      ]
     },
     "execution_count": 67,
     "metadata": {},
     "output_type": "execute_result"
    }
   ],
   "source": [
    "-3//2"
   ]
  }
 ],
 "metadata": {
  "kernelspec": {
   "display_name": "Python 3 (ipykernel)",
   "language": "python",
   "name": "python3"
  },
  "language_info": {
   "codemirror_mode": {
    "name": "ipython",
    "version": 3
   },
   "file_extension": ".py",
   "mimetype": "text/x-python",
   "name": "python",
   "nbconvert_exporter": "python",
   "pygments_lexer": "ipython3",
   "version": "3.12.2"
  }
 },
 "nbformat": 4,
 "nbformat_minor": 5
}
