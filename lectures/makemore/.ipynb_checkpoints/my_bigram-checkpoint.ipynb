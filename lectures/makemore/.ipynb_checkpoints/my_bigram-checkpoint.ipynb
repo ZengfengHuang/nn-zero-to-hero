{
 "cells": [
  {
   "cell_type": "code",
   "execution_count": 5,
   "id": "01fd3408-2a8b-41f3-a4ba-f78079c997b9",
   "metadata": {},
   "outputs": [],
   "source": [
    "words = open('names.txt', 'r').read()"
   ]
  }
 ],
 "metadata": {
  "kernelspec": {
   "display_name": "Python 3 (ipykernel)",
   "language": "python",
   "name": "python3"
  },
  "language_info": {
   "codemirror_mode": {
    "name": "ipython",
    "version": 3
   },
   "file_extension": ".py",
   "mimetype": "text/x-python",
   "name": "python",
   "nbconvert_exporter": "python",
   "pygments_lexer": "ipython3",
   "version": "3.9.6"
  }
 },
 "nbformat": 4,
 "nbformat_minor": 5
}
